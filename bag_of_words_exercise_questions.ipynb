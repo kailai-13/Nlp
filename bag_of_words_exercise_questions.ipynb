{
 "cells": [
  {
   "cell_type": "markdown",
   "metadata": {
    "id": "KYoVrnewenmh"
   },
   "source": [
    "### Bag of words: Exercises\n",
    "\n",
    "\n",
    "- In this Exercise, you are going to classify whether a given movie review is **positive or negative**.\n",
    "- you are going to use Bag of words for pre-processing the text and apply different classification algorithms.\n",
    "- Sklearn CountVectorizer has the inbuilt implementations for Bag of Words."
   ]
  },
  {
   "cell_type": "code",
   "execution_count": 1,
   "metadata": {
    "id": "JW6MPIjib_4G"
   },
   "outputs": [],
   "source": [
    "#Import necessary libraries\n",
    "\n",
    "import pandas as pd\n",
    "import numpy as np\n",
    "from sklearn.model_selection import train_test_split\n",
    "from sklearn.feature_extraction.text import CountVectorizer\n",
    "from sklearn.ensemble import RandomForestClassifier\n",
    "from  sklearn.neighbors import KNeighborsClassifier\n",
    "from sklearn.naive_bayes import MultinomialNB\n",
    "from sklearn.pipeline import Pipeline\n",
    "from sklearn.metrics import classification_report"
   ]
  },
  {
   "cell_type": "markdown",
   "metadata": {
    "id": "kDATDCL8NMML"
   },
   "source": [
    "### **About Data: IMDB Dataset**\n",
    "\n",
    "Credits: https://www.kaggle.com/datasets/lakshmi25npathi/imdb-dataset-of-50k-movie-reviews?resource=download\n",
    "\n",
    "\n",
    "- This data consists of two columns.\n",
    "        - review\n",
    "        - sentiment\n",
    "- Reviews are the statements given by users after watching the movie.\n",
    "- sentiment feature tells whether the given review is positive or negative."
   ]
  },
  {
   "cell_type": "code",
   "execution_count": 19,
   "metadata": {
    "colab": {
     "base_uri": "https://localhost:8080/",
     "height": 224
    },
    "id": "beL29JwEb_7O",
    "outputId": "cf0a9e1e-b80b-4447-d759-0828baba2620"
   },
   "outputs": [
    {
     "data": {
      "text/plain": [
       "(50000, 2)"
      ]
     },
     "execution_count": 19,
     "metadata": {},
     "output_type": "execute_result"
    }
   ],
   "source": [
    "#1. read the data provided in the same directory with name 'movies_sentiment_data.csv' and store it in df variable\n",
    "\n",
    "df=pd.read_csv(\"IMDB Dataset.csv\")\n",
    "\n",
    "#2. print the shape of the data\n",
    "df.shape\n",
    "\n"
   ]
  },
  {
   "cell_type": "code",
   "execution_count": 20,
   "metadata": {},
   "outputs": [
    {
     "data": {
      "text/html": [
       "<div>\n",
       "<style scoped>\n",
       "    .dataframe tbody tr th:only-of-type {\n",
       "        vertical-align: middle;\n",
       "    }\n",
       "\n",
       "    .dataframe tbody tr th {\n",
       "        vertical-align: top;\n",
       "    }\n",
       "\n",
       "    .dataframe thead th {\n",
       "        text-align: right;\n",
       "    }\n",
       "</style>\n",
       "<table border=\"1\" class=\"dataframe\">\n",
       "  <thead>\n",
       "    <tr style=\"text-align: right;\">\n",
       "      <th></th>\n",
       "      <th>review</th>\n",
       "      <th>sentiment</th>\n",
       "    </tr>\n",
       "  </thead>\n",
       "  <tbody>\n",
       "    <tr>\n",
       "      <th>0</th>\n",
       "      <td>One of the other reviewers has mentioned that ...</td>\n",
       "      <td>positive</td>\n",
       "    </tr>\n",
       "    <tr>\n",
       "      <th>1</th>\n",
       "      <td>A wonderful little production. &lt;br /&gt;&lt;br /&gt;The...</td>\n",
       "      <td>positive</td>\n",
       "    </tr>\n",
       "    <tr>\n",
       "      <th>2</th>\n",
       "      <td>I thought this was a wonderful way to spend ti...</td>\n",
       "      <td>positive</td>\n",
       "    </tr>\n",
       "    <tr>\n",
       "      <th>3</th>\n",
       "      <td>Basically there's a family where a little boy ...</td>\n",
       "      <td>negative</td>\n",
       "    </tr>\n",
       "    <tr>\n",
       "      <th>4</th>\n",
       "      <td>Petter Mattei's \"Love in the Time of Money\" is...</td>\n",
       "      <td>positive</td>\n",
       "    </tr>\n",
       "  </tbody>\n",
       "</table>\n",
       "</div>"
      ],
      "text/plain": [
       "                                              review sentiment\n",
       "0  One of the other reviewers has mentioned that ...  positive\n",
       "1  A wonderful little production. <br /><br />The...  positive\n",
       "2  I thought this was a wonderful way to spend ti...  positive\n",
       "3  Basically there's a family where a little boy ...  negative\n",
       "4  Petter Mattei's \"Love in the Time of Money\" is...  positive"
      ]
     },
     "execution_count": 20,
     "metadata": {},
     "output_type": "execute_result"
    }
   ],
   "source": [
    "#3. print top 5 datapoints\n",
    "df.head()"
   ]
  },
  {
   "cell_type": "code",
   "execution_count": 22,
   "metadata": {},
   "outputs": [
    {
     "data": {
      "text/plain": [
       "review\n",
       "Loved today's show!!! It was a variety and not solely cooking (which would have been great too). Very stimulating and captivating, always keeping the viewer peeking around the corner to see what was coming up next. She is as down to earth and as personable as you get, like one of us which made the show all the more enjoyable. Special guests, who are friends as well made for a nice surprise too. Loved the 'first' theme and that the audience was invited to play along too. I must admit I was shocked to see her come in under her time limits on a few things, but she did it and by golly I'll be writing those recipes down. Saving time in the kitchen means more time with family. Those who haven't tuned in yet, find out what channel and the time, I assure you that you won't be disappointed.                                                                                                                                                                                                                                                                                                                                                                                                                                                                                                                                                                                                                                                                                                                                                                                                                                                                                                                                                        5\n",
       "Hilarious, clean, light-hearted, and quote-worthy. What else can you ask for in a film? This is my all-time, number one favorite movie. Ever since I was a little girl, I've dreamed of owning a blue van with flames and an observation bubble.<br /><br />The cliché characters in ridiculous situations are what make this film such great fun. The wonderful comedic chemistry between Stephen Furst (Harold) and Andy Tennant (Melio) make up most of my favorite parts of the movie. And who didn't love the hopeless awkwardness of Flynch? Don't forget the airport antics of Leon's cronies, dressed up as Hari Krishnas: dancing, chanting and playing the tambourine--unbeatable! The clues are genius, the locations are classic, and the plot is timeless.<br /><br />A word to the wise, if you didn't watch this film when you were little, it probably won't win a place in your heart today. But nevertheless give it a chance, you may find that \"It doesn't matter what you say, it doesn't matter what you do, you've gotta play.\"                                                                                                                                                                                                                                                                                                                                                                                                                                                                                                                                                                                                                                                                                                                          4\n",
       "How has this piece of crap stayed on TV this long? It's terrible. It makes me want to shoot someone. It's so fake that it is actually worse than a 1940s sci-fi movie. I'd rather have a stroke than watch this nonsense. I remember watching it when it first came out. I thought, hey this could be interesting, then I found out how absolutely, insanely, ridiculously stupid it really was. It was so bad that I actually took out my pocket knife and stuck my hand to the table.<br /><br />Please people, stop watching this and all other reality shows, they're the trash that is jamming the networks and canceling quality programming that requires some thought to create.                                                                                                                                                                                                                                                                                                                                                                                                                                                                                                                                                                                                                                                                                                                                                                                                                                                                                                                                                                                                                                                                                        3\n",
       "Nickelodeon has gone down the toilet. They have kids saying things like \"Oh my God!\" and \"We're screwed\"<br /><br />This show promotes hate for people who aren't good looking, or aren't in the in crowd. It say that sexual promiscuity is alright, by having girls slobbering over shirtless boys. Not to mention the overweight boy who takes off his shirt. The main characters basically shun anyone out of the ordinary. Carly's friend Sam, who may be a lesbian, beats the snot out of anybody that crosses her path, which says it's alright to be a b**ch. This show has so much negativity in it that nobody should watch it! I give it a 0 out of 10!!!                                                                                                                                                                                                                                                                                                                                                                                                                                                                                                                                                                                                                                                                                                                                                                                                                                                                                                                                                                                                                                                                                                            3\n",
       "You do realize that you've been watching the EXACT SAME SHOW for eight years, right? I could understand the initial curiosity of seeing strangers co-exist on an Island, but you'd think that after watching unkempt, stink-ladened heroes run roughshod through the bush with an egg on a spoon for half a decade would be enough to get you to commit to something a little more original (and interesting).<br /><br />And I'm not even speaking of the shows validity which for the record I find questionable. It's just hard to suspend disbelief for \"Bushy Bill\" eating a rat when the entire crew of producers and camera people are housed in an air conditioned make-shift bio-dome sipping frosty mochcinno's with moxy.<br /><br />What's the appeal here? I don't care about these people or their meandering lives. I just don't get it. But if you DO find yourself being captivated by hairy, unwashed people, I suggest you turn off your TV and just take a trip to your local bus station where you can see people like this in their TRUE habitat. They call them HOMELESS PEOPLE, and free of charge, you can sit back and marvel in their uncanny ability to retrieve various cigarette debris from a plethora of garbage canisters, eventually striking \"pay-dirt\" and fashioning a homemade Dr. Frankenstein-styled cancer-stick, all the while begging people for change for food when the stink of \"Aqua Velva\" on their breath is enough to suggest otherwise. And the best part? Much like Survivor, every week one member of the tribe \"Leaves\" the \"Island\" when they are unceremoniously sent packing to the local Institution when the frightening unmedicated state of full-blown schizophrenia kicks into gear! Now THAT'S ENTERTAINMENT!    3\n",
       "                                                                                                                                                                                                                                                                                                                                                                                                                                                                                                                                                                                                                                                                                                                                                                                                                                                                                                                                                                                                                                                                                                                                                                                                                                                                                                                                                                                                                                                                                                                                                                                                                                                                                                                                                                               ..\n",
       "REVOLT OF THE ZOMBIES (2 outta 5 stars) No, this is not a long-lost ancestor to the classic George A. Romero zombie flicks. This is a low-budget potboiler from 1936 that probably seemed very cool to audiences of the time... but seems awfully routine these days. There is actually a pretty good scene at the start of a soldier firing off his pistol into a horde of approaching zombie soldiers... and a close-up of bullets entering the bare chest of one of them. The effect looks hopelessly fake these days but in 1936 I'm sure it had audiences gasping. The story concerns the search for the secret of mind control... ostensibly to create an unstoppable zombie army... but later as a means for one character to win the woman he loves. The movie is barely an hour long but moves at a snail's pace so it seems feature-length, believe me! There really isn't much to recommend it... you may get some amusement from the faked studio shots of the star \"wading\" through a \"swamp\". The ending is interesting... so I'd say the movie is worth seeing at least once. More than likely you will see it as an extra feature on some cheap \"4 movies on 1 DVD\" compilation at Wal-Mart for five bucks. Hey, it's well worth the money...                                                                                                                                                                                                                                                                                                                                                                                                                                                                                                                   1\n",
       "At least among those movies with 100 votes or more. Nominated for best screenplay written directly for the screen? Brenda Blethyn nominated for best actress in a leading role?? Nominated for best picture?? I always disagree with many of the Oscar picks, but this movie might very well be the worst movie of all time to be honored by the Academy. The writing and acting were both horrible. Blethyn's perfomance in particular was one of the worst I've ever seen, and probably the most over-rated acting performance of all time. Awful movie, not worthy of the big screen and not worthy of any cable or television channel that has ever played it, including HBO(where I saw it). I am only thankful I didn't actually pay to see one of the most over-rated movies of all time.                                                                                                                                                                                                                                                                                                                                                                                                                                                                                                                                                                                                                                                                                                                                                                                                                                                                                                                                                                                1\n",
       "I rented this movie under the impression that it was \"Scarecrow 3:Dark Harvest\", thinking it was a continuation in the Scarecrow Slayer series (another extremely laughable and all together awful series of movies). I wasn't disappointed though. It was just as awful, if not worse, than what I expected. I was laughing throughout the entire movie. Every piece of bad acting, poorly shot and cut footage, and terrible special effects is what makes this movie worth renting.<br /><br />The special features include a pathetic view into the cast and crew's six months of filming.<br /><br />Favorite line, \"The sins of my forefathers! They've trickled down to this very moment of time!\"                                                                                                                                                                                                                                                                                                                                                                                                                                                                                                                                                                                                                                                                                                                                                                                                                                                                                                                                                                                                                                                                       1\n",
       "Surreal film noir released soon after the \"real,\" genre-defining classics \"The Maltese Falcon,\" \"Double Indemnity\" and \"The Postman Always Rings Twice.\" Welles films shouldn't be evaluated against others. He was playing by different rules. In fact, he was playing. This starts where other femme fatale films leave off, so the vaguely logical (but interesting) whodunit is embellished with a display of Wellesian scenes (typical rapid-fire style), dialog (lots of \"hard-boiled\" philosophy), and unusual acting (good Hayworth presumably intentionally one-dimensional). To Welles \"genre\" may have meant \"formula\" but he seemed to like using \"mysteries\" as backgrounds for his \"entertainments.\"                                                                                                                                                                                                                                                                                                                                                                                                                                                                                                                                                                                                                                                                                                                                                                                                                                                                                                                                                                                                                                                              1\n",
       "No one expects the Star Trek movies to be high art, but the fans do expect a movie that is as good as some of the best episodes. Unfortunately, this movie had a muddled, implausible plot that just left me cringing - this is by far the worst of the nine (so far) movies. Even the chance to watch the well known characters interact in another movie can't save this movie - including the goofy scenes with Kirk, Spock and McCoy at Yosemite.<br /><br />I would say this movie is not worth a rental, and hardly worth watching, however for the True Fan who needs to see all the movies, renting this movie is about the only way you'll see it - even the cable channels avoid this movie.                                                                                                                                                                                                                                                                                                                                                                                                                                                                                                                                                                                                                                                                                                                                                                                                                                                                                                                                                                                                                                                                          1\n",
       "Name: count, Length: 49582, dtype: int64"
      ]
     },
     "execution_count": 22,
     "metadata": {},
     "output_type": "execute_result"
    }
   ],
   "source": []
  },
  {
   "cell_type": "code",
   "execution_count": 23,
   "metadata": {},
   "outputs": [
    {
     "data": {
      "text/html": [
       "<div>\n",
       "<style scoped>\n",
       "    .dataframe tbody tr th:only-of-type {\n",
       "        vertical-align: middle;\n",
       "    }\n",
       "\n",
       "    .dataframe tbody tr th {\n",
       "        vertical-align: top;\n",
       "    }\n",
       "\n",
       "    .dataframe thead th {\n",
       "        text-align: right;\n",
       "    }\n",
       "</style>\n",
       "<table border=\"1\" class=\"dataframe\">\n",
       "  <thead>\n",
       "    <tr style=\"text-align: right;\">\n",
       "      <th></th>\n",
       "      <th>review</th>\n",
       "      <th>sentiment</th>\n",
       "      <th>Category</th>\n",
       "    </tr>\n",
       "  </thead>\n",
       "  <tbody>\n",
       "    <tr>\n",
       "      <th>0</th>\n",
       "      <td>One of the other reviewers has mentioned that ...</td>\n",
       "      <td>positive</td>\n",
       "      <td>1</td>\n",
       "    </tr>\n",
       "    <tr>\n",
       "      <th>1</th>\n",
       "      <td>A wonderful little production. &lt;br /&gt;&lt;br /&gt;The...</td>\n",
       "      <td>positive</td>\n",
       "      <td>1</td>\n",
       "    </tr>\n",
       "    <tr>\n",
       "      <th>2</th>\n",
       "      <td>I thought this was a wonderful way to spend ti...</td>\n",
       "      <td>positive</td>\n",
       "      <td>1</td>\n",
       "    </tr>\n",
       "    <tr>\n",
       "      <th>3</th>\n",
       "      <td>Basically there's a family where a little boy ...</td>\n",
       "      <td>negative</td>\n",
       "      <td>0</td>\n",
       "    </tr>\n",
       "    <tr>\n",
       "      <th>4</th>\n",
       "      <td>Petter Mattei's \"Love in the Time of Money\" is...</td>\n",
       "      <td>positive</td>\n",
       "      <td>1</td>\n",
       "    </tr>\n",
       "    <tr>\n",
       "      <th>...</th>\n",
       "      <td>...</td>\n",
       "      <td>...</td>\n",
       "      <td>...</td>\n",
       "    </tr>\n",
       "    <tr>\n",
       "      <th>49995</th>\n",
       "      <td>I thought this movie did a down right good job...</td>\n",
       "      <td>positive</td>\n",
       "      <td>1</td>\n",
       "    </tr>\n",
       "    <tr>\n",
       "      <th>49996</th>\n",
       "      <td>Bad plot, bad dialogue, bad acting, idiotic di...</td>\n",
       "      <td>negative</td>\n",
       "      <td>0</td>\n",
       "    </tr>\n",
       "    <tr>\n",
       "      <th>49997</th>\n",
       "      <td>I am a Catholic taught in parochial elementary...</td>\n",
       "      <td>negative</td>\n",
       "      <td>0</td>\n",
       "    </tr>\n",
       "    <tr>\n",
       "      <th>49998</th>\n",
       "      <td>I'm going to have to disagree with the previou...</td>\n",
       "      <td>negative</td>\n",
       "      <td>0</td>\n",
       "    </tr>\n",
       "    <tr>\n",
       "      <th>49999</th>\n",
       "      <td>No one expects the Star Trek movies to be high...</td>\n",
       "      <td>negative</td>\n",
       "      <td>0</td>\n",
       "    </tr>\n",
       "  </tbody>\n",
       "</table>\n",
       "<p>50000 rows × 3 columns</p>\n",
       "</div>"
      ],
      "text/plain": [
       "                                                  review sentiment  Category\n",
       "0      One of the other reviewers has mentioned that ...  positive         1\n",
       "1      A wonderful little production. <br /><br />The...  positive         1\n",
       "2      I thought this was a wonderful way to spend ti...  positive         1\n",
       "3      Basically there's a family where a little boy ...  negative         0\n",
       "4      Petter Mattei's \"Love in the Time of Money\" is...  positive         1\n",
       "...                                                  ...       ...       ...\n",
       "49995  I thought this movie did a down right good job...  positive         1\n",
       "49996  Bad plot, bad dialogue, bad acting, idiotic di...  negative         0\n",
       "49997  I am a Catholic taught in parochial elementary...  negative         0\n",
       "49998  I'm going to have to disagree with the previou...  negative         0\n",
       "49999  No one expects the Star Trek movies to be high...  negative         0\n",
       "\n",
       "[50000 rows x 3 columns]"
      ]
     },
     "execution_count": 23,
     "metadata": {},
     "output_type": "execute_result"
    }
   ],
   "source": [
    "#creating a new column \"Category\" which represent 1 if the sentiment is positive or 0 if it is negative\n",
    "df['Category']=df['sentiment'].apply(lambda x: 1 if x==\"positive\" else 0)\n",
    "df"
   ]
  },
  {
   "cell_type": "code",
   "execution_count": 24,
   "metadata": {
    "colab": {
     "base_uri": "https://localhost:8080/"
    },
    "id": "OSwPM7mub_9S",
    "outputId": "2b68719c-b7f4-48b8-a41e-3f95cca9f2f2"
   },
   "outputs": [
    {
     "data": {
      "text/plain": [
       "Category\n",
       "1    25000\n",
       "0    25000\n",
       "Name: count, dtype: int64"
      ]
     },
     "execution_count": 24,
     "metadata": {},
     "output_type": "execute_result"
    }
   ],
   "source": [
    "#check the distribution of 'Category' and see whether the Target labels are balanced or not.\n",
    "df['Category'].value_counts()\n"
   ]
  },
  {
   "cell_type": "code",
   "execution_count": 28,
   "metadata": {
    "id": "IB97QiFCcAAe"
   },
   "outputs": [],
   "source": [
    "#Do the 'train-test' splitting with test size of 20%\n",
    "X_train,X_test,y_train,y_test=train_test_split(df['review'],df['Category'],test_size=0.2)\n"
   ]
  },
  {
   "cell_type": "code",
   "execution_count": 29,
   "metadata": {
    "id": "mtr4mSLEMWiU"
   },
   "outputs": [
    {
     "data": {
      "text/plain": [
       "46260    This tearful movie about a sister and her batt...\n",
       "27869    Watching this odd little adventure movie, it's...\n",
       "249      'Airport 4' is basically a slopped together me...\n",
       "46503    If you hate redneck accents, you'll hate this ...\n",
       "7069     Funny how a studio thinks it can make a sequel...\n",
       "                               ...                        \n",
       "8915     New Year 2006, and I'm watching Glimmer Man ag...\n",
       "46038    I saw this movie as a child and fell in love w...\n",
       "7623     I have to be honest and say I bought this movi...\n",
       "40063    Anyone who complains about Peter Jackson makin...\n",
       "14489    John Landis truly outdid himself when he direc...\n",
       "Name: review, Length: 10000, dtype: object"
      ]
     },
     "execution_count": 29,
     "metadata": {},
     "output_type": "execute_result"
    }
   ],
   "source": [
    "X_test"
   ]
  },
  {
   "cell_type": "markdown",
   "metadata": {
    "id": "J-pUGPqwMrDQ"
   },
   "source": [
    "**Exercise-1**\n",
    "\n",
    "1. using sklearn pipeline module create a classification pipeline to classify the movie review's positive or negative.\n",
    "\n",
    "**Note:**\n",
    "- use CountVectorizer for pre-processing the text.\n",
    "\n",
    "- use **Random Forest** as the classifier with estimators as 50 and criterion as entropy.\n",
    "- print the classification report.\n",
    "\n",
    "**References**:\n",
    "\n",
    "- https://scikit-learn.org/stable/modules/generated/sklearn.ensemble.RandomForestClassifier.html\n",
    "\n",
    "- https://scikit-learn.org/stable/modules/generated/sklearn.feature_extraction.text.CountVectorizer.html"
   ]
  },
  {
   "cell_type": "code",
   "execution_count": 31,
   "metadata": {
    "colab": {
     "base_uri": "https://localhost:8080/"
    },
    "id": "CbldZv03MWkB",
    "outputId": "cf70d361-da12-46a9-8d59-73cdba9bad91"
   },
   "outputs": [
    {
     "ename": "TypeError",
     "evalue": "keywords must be strings",
     "output_type": "error",
     "traceback": [
      "\u001b[1;31m---------------------------------------------------------------------------\u001b[0m",
      "\u001b[1;31mTypeError\u001b[0m                                 Traceback (most recent call last)",
      "\u001b[1;32mc:\\Users\\Kaila\\Nlp\\bag_of_words_exercise_questions.ipynb Cell 12\u001b[0m line \u001b[0;36m9\n\u001b[0;32m      <a href='vscode-notebook-cell:/c%3A/Users/Kaila/Nlp/bag_of_words_exercise_questions.ipynb#X12sZmlsZQ%3D%3D?line=1'>2</a>\u001b[0m pip\u001b[39m=\u001b[39mPipeline([((\u001b[39m'\u001b[39m\u001b[39mCountVectorizer\u001b[39m\u001b[39m'\u001b[39m,CountVectorizer()),\n\u001b[0;32m      <a href='vscode-notebook-cell:/c%3A/Users/Kaila/Nlp/bag_of_words_exercise_questions.ipynb#X12sZmlsZQ%3D%3D?line=2'>3</a>\u001b[0m              (\u001b[39m'\u001b[39m\u001b[39mRandomForestClassifier\u001b[39m\u001b[39m'\u001b[39m,RandomForestClassifier()))])\n\u001b[0;32m      <a href='vscode-notebook-cell:/c%3A/Users/Kaila/Nlp/bag_of_words_exercise_questions.ipynb#X12sZmlsZQ%3D%3D?line=6'>7</a>\u001b[0m \u001b[39m#2. fit with X_train and y_train\u001b[39;00m\n\u001b[1;32m----> <a href='vscode-notebook-cell:/c%3A/Users/Kaila/Nlp/bag_of_words_exercise_questions.ipynb#X12sZmlsZQ%3D%3D?line=8'>9</a>\u001b[0m pip\u001b[39m.\u001b[39;49mfit(X_train,y_train)\n\u001b[0;32m     <a href='vscode-notebook-cell:/c%3A/Users/Kaila/Nlp/bag_of_words_exercise_questions.ipynb#X12sZmlsZQ%3D%3D?line=10'>11</a>\u001b[0m \u001b[39m#3. get the predictions for X_test and store it in y_pred\u001b[39;00m\n\u001b[0;32m     <a href='vscode-notebook-cell:/c%3A/Users/Kaila/Nlp/bag_of_words_exercise_questions.ipynb#X12sZmlsZQ%3D%3D?line=12'>13</a>\u001b[0m y_pred\u001b[39m=\u001b[39mpip\u001b[39m.\u001b[39mpredict(X_test)\n",
      "File \u001b[1;32mc:\\Users\\Kaila\\.pyenv\\pyenv-win\\versions\\3.10.0\\lib\\site-packages\\sklearn\\base.py:1363\u001b[0m, in \u001b[0;36m_fit_context.<locals>.decorator.<locals>.wrapper\u001b[1;34m(estimator, *args, **kwargs)\u001b[0m\n\u001b[0;32m   1356\u001b[0m     estimator\u001b[39m.\u001b[39m_validate_params()\n\u001b[0;32m   1358\u001b[0m \u001b[39mwith\u001b[39;00m config_context(\n\u001b[0;32m   1359\u001b[0m     skip_parameter_validation\u001b[39m=\u001b[39m(\n\u001b[0;32m   1360\u001b[0m         prefer_skip_nested_validation \u001b[39mor\u001b[39;00m global_skip_validation\n\u001b[0;32m   1361\u001b[0m     )\n\u001b[0;32m   1362\u001b[0m ):\n\u001b[1;32m-> 1363\u001b[0m     \u001b[39mreturn\u001b[39;00m fit_method(estimator, \u001b[39m*\u001b[39margs, \u001b[39m*\u001b[39m\u001b[39m*\u001b[39mkwargs)\n",
      "File \u001b[1;32mc:\\Users\\Kaila\\.pyenv\\pyenv-win\\versions\\3.10.0\\lib\\site-packages\\sklearn\\pipeline.py:652\u001b[0m, in \u001b[0;36mPipeline.fit\u001b[1;34m(self, X, y, **params)\u001b[0m\n\u001b[0;32m    645\u001b[0m \u001b[39mif\u001b[39;00m \u001b[39mnot\u001b[39;00m _routing_enabled() \u001b[39mand\u001b[39;00m \u001b[39mself\u001b[39m\u001b[39m.\u001b[39mtransform_input \u001b[39mis\u001b[39;00m \u001b[39mnot\u001b[39;00m \u001b[39mNone\u001b[39;00m:\n\u001b[0;32m    646\u001b[0m     \u001b[39mraise\u001b[39;00m \u001b[39mValueError\u001b[39;00m(\n\u001b[0;32m    647\u001b[0m         \u001b[39m\"\u001b[39m\u001b[39mThe `transform_input` parameter can only be set if metadata \u001b[39m\u001b[39m\"\u001b[39m\n\u001b[0;32m    648\u001b[0m         \u001b[39m\"\u001b[39m\u001b[39mrouting is enabled. You can enable metadata routing using \u001b[39m\u001b[39m\"\u001b[39m\n\u001b[0;32m    649\u001b[0m         \u001b[39m\"\u001b[39m\u001b[39m`sklearn.set_config(enable_metadata_routing=True)`.\u001b[39m\u001b[39m\"\u001b[39m\n\u001b[0;32m    650\u001b[0m     )\n\u001b[1;32m--> 652\u001b[0m routed_params \u001b[39m=\u001b[39m \u001b[39mself\u001b[39;49m\u001b[39m.\u001b[39;49m_check_method_params(method\u001b[39m=\u001b[39;49m\u001b[39m\"\u001b[39;49m\u001b[39mfit\u001b[39;49m\u001b[39m\"\u001b[39;49m, props\u001b[39m=\u001b[39;49mparams)\n\u001b[0;32m    653\u001b[0m Xt \u001b[39m=\u001b[39m \u001b[39mself\u001b[39m\u001b[39m.\u001b[39m_fit(X, y, routed_params, raw_params\u001b[39m=\u001b[39mparams)\n\u001b[0;32m    654\u001b[0m \u001b[39mwith\u001b[39;00m _print_elapsed_time(\u001b[39m\"\u001b[39m\u001b[39mPipeline\u001b[39m\u001b[39m\"\u001b[39m, \u001b[39mself\u001b[39m\u001b[39m.\u001b[39m_log_message(\u001b[39mlen\u001b[39m(\u001b[39mself\u001b[39m\u001b[39m.\u001b[39msteps) \u001b[39m-\u001b[39m \u001b[39m1\u001b[39m)):\n",
      "File \u001b[1;32mc:\\Users\\Kaila\\.pyenv\\pyenv-win\\versions\\3.10.0\\lib\\site-packages\\sklearn\\pipeline.py:449\u001b[0m, in \u001b[0;36mPipeline._check_method_params\u001b[1;34m(self, method, props, **kwargs)\u001b[0m\n\u001b[0;32m    447\u001b[0m     \u001b[39mreturn\u001b[39;00m routed_params\n\u001b[0;32m    448\u001b[0m \u001b[39melse\u001b[39;00m:\n\u001b[1;32m--> 449\u001b[0m     fit_params_steps \u001b[39m=\u001b[39m Bunch(\n\u001b[0;32m    450\u001b[0m         \u001b[39m*\u001b[39m\u001b[39m*\u001b[39m{\n\u001b[0;32m    451\u001b[0m             name: Bunch(\u001b[39m*\u001b[39m\u001b[39m*\u001b[39m{method: {} \u001b[39mfor\u001b[39;00m method \u001b[39min\u001b[39;00m METHODS})\n\u001b[0;32m    452\u001b[0m             \u001b[39mfor\u001b[39;00m name, step \u001b[39min\u001b[39;00m \u001b[39mself\u001b[39m\u001b[39m.\u001b[39msteps\n\u001b[0;32m    453\u001b[0m             \u001b[39mif\u001b[39;00m step \u001b[39mis\u001b[39;00m \u001b[39mnot\u001b[39;00m \u001b[39mNone\u001b[39;00m\n\u001b[0;32m    454\u001b[0m         }\n\u001b[0;32m    455\u001b[0m     )\n\u001b[0;32m    456\u001b[0m     \u001b[39mfor\u001b[39;00m pname, pval \u001b[39min\u001b[39;00m props\u001b[39m.\u001b[39mitems():\n\u001b[0;32m    457\u001b[0m         \u001b[39mif\u001b[39;00m \u001b[39m\"\u001b[39m\u001b[39m__\u001b[39m\u001b[39m\"\u001b[39m \u001b[39mnot\u001b[39;00m \u001b[39min\u001b[39;00m pname:\n",
      "\u001b[1;31mTypeError\u001b[0m: keywords must be strings"
     ]
    }
   ],
   "source": [
    "#1. create a pipeline object\n",
    "pip=Pipeline([(('CountVectorizer',CountVectorizer()),\n",
    "             ('RandomForestClassifier',RandomForestClassifier()))])\n",
    "\n",
    "\n",
    "\n",
    "#2. fit with X_train and y_train\n",
    "\n",
    "pip.fit(X_train,y_train)\n",
    "\n",
    "#3. get the predictions for X_test and store it in y_pred\n",
    "\n",
    "y_pred=pip.predict(X_test)\n",
    "\n",
    "#4. print the classfication report\n",
    "print(classification_report(y_pred,y_test))"
   ]
  },
  {
   "cell_type": "markdown",
   "metadata": {
    "id": "WMVvGzqXSFYr"
   },
   "source": [
    "**Exercise-2**\n",
    "\n",
    "1. using sklearn pipeline module create a classification pipeline to classify the movie review's positive or negative..\n",
    "\n",
    "**Note:**\n",
    "- use CountVectorizer for pre-processing the text.\n",
    "- use **KNN** as the classifier with n_neighbors of 10 and metric as 'euclidean'.\n",
    "- print the classification report.\n",
    "\n",
    "**References**:\n",
    "\n",
    "- https://scikit-learn.org/stable/modules/generated/sklearn.feature_extraction.text.CountVectorizer.html\n",
    "- https://scikit-learn.org/stable/modules/generated/sklearn.neighbors.KNeighborsClassifier.html\n",
    "\n"
   ]
  },
  {
   "cell_type": "code",
   "execution_count": 5,
   "metadata": {
    "colab": {
     "base_uri": "https://localhost:8080/"
    },
    "id": "tYkY77S6MWng",
    "outputId": "53275bdc-4629-464c-d26f-00075b080174"
   },
   "outputs": [],
   "source": [
    "\n",
    "#1. create a pipeline object\n",
    "\n",
    "\n",
    "#2. fit with X_train and y_train\n",
    "\n",
    "\n",
    "\n",
    "#3. get the predictions for X_test and store it in y_pred\n",
    "\n",
    "\n",
    "#4. print the classfication report\n"
   ]
  },
  {
   "cell_type": "markdown",
   "metadata": {},
   "source": [
    "**Exercise-3**\n",
    "\n",
    "1. using sklearn pipeline module create a classification pipeline to classify the movie review's positive or negative..\n",
    "\n",
    "**Note:**\n",
    "- use CountVectorizer for pre-processing the text.\n",
    "- use **Multinomial Naive Bayes** as the classifier.\n",
    "- print the classification report.\n",
    "\n",
    "**References**:\n",
    "\n",
    "- https://scikit-learn.org/stable/modules/generated/sklearn.feature_extraction.text.CountVectorizer.html\n",
    "- https://scikit-learn.org/stable/modules/generated/sklearn.naive_bayes.MultinomialNB.html\n",
    "\n"
   ]
  },
  {
   "cell_type": "code",
   "execution_count": 6,
   "metadata": {},
   "outputs": [],
   "source": [
    "\n",
    "#1. create a pipeline object\n",
    "\n",
    "\n",
    "\n",
    "#2. fit with X_train and y_train\n",
    "\n",
    "\n",
    "\n",
    "#3. get the predictions for X_test and store it in y_pred\n",
    "\n",
    "\n",
    "\n",
    "#4. print the classfication report\n"
   ]
  },
  {
   "cell_type": "code",
   "execution_count": null,
   "metadata": {},
   "outputs": [],
   "source": []
  },
  {
   "cell_type": "markdown",
   "metadata": {},
   "source": [
    "### Can you write some observations of why model like KNN fails to produce good results unlike RandomForest and MultinomialNB?\n",
    "\n"
   ]
  },
  {
   "cell_type": "markdown",
   "metadata": {},
   "source": [
    "## [**Solution**](./bag_of_words_exercise_solutions.ipynb)"
   ]
  }
 ],
 "metadata": {
  "colab": {
   "collapsed_sections": [],
   "name": "BOW_exercise.ipynb",
   "provenance": []
  },
  "kernelspec": {
   "display_name": "Python 3 (ipykernel)",
   "language": "python",
   "name": "python3"
  },
  "language_info": {
   "codemirror_mode": {
    "name": "ipython",
    "version": 3
   },
   "file_extension": ".py",
   "mimetype": "text/x-python",
   "name": "python",
   "nbconvert_exporter": "python",
   "pygments_lexer": "ipython3",
   "version": "3.10.0"
  }
 },
 "nbformat": 4,
 "nbformat_minor": 1
}
